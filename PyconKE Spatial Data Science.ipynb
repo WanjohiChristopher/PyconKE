{
 "cells": [
  {
   "cell_type": "markdown",
   "metadata": {},
   "source": [
    "# <center>Project Demo Description</center>"
   ]
  },
  {
   "cell_type": "code",
   "execution_count": 1,
   "metadata": {},
   "outputs": [],
   "source": [
    "# Installs geemap package\n",
    "import subprocess\n",
    "\n",
    "try:\n",
    "        import geemap                  # GEE Python API\n",
    "except ImportError:\n",
    "        print('geemap package not installed. Installing ...')\n",
    "        subprocess.check_call([\"python\", '-m', 'pip', 'install', 'geemap'])\n",
    "\n",
    "try:\n",
    "        import numpy as np\n",
    "        import pandas as pd\n",
    "        import matplotlib.pyplot as plt\n",
    "        import seaborn as sns\n",
    "        #importing machine learning packages \n",
    "        from sklearn import ensemble\n",
    "        from sklearn.model_selection import train_test_split\n",
    "        from sklearn.ensemble import RandomForestClassifier\n",
    "        from sklearn.metrics import accuracy_score, confusion_matrix, classification_report\n",
    "\n",
    "except ImportError:\n",
    "    print('Install error packages')\n",
    "\n",
    "%matplotlib inline\n",
    "# Checks whether this notebook is running on Google Colab\n",
    "try:\n",
    "        import google.colab               # Accessing notebook on colab\n",
    "        import geemap.foliumap as emap    # Importing folium viz framework\n",
    "        from geemap import ml             # Importing ML model\n",
    "except:\n",
    "        import geemap as emap\n",
    "\n",
    "# Authenticates and initializes Earth Engine\n",
    "import ee                                 # Importing Google Earth Engine Environment to python \n",
    "\n",
    "try:\n",
    "        ee.Initialize()                    # Initialize GEE Env\n",
    "except Exception as e: \n",
    "        ee.Authenticate()\n",
    "        ee.Initialize()\n",
    "\n"
   ]
  },
  {
   "cell_type": "code",
   "execution_count": 2,
   "metadata": {},
   "outputs": [],
   "source": [
    "# defining the area of intrest to work\n",
    "#make sure to include the shapefile which is our AOI \n",
    "AOI=ee.FeatureCollection(\"projects/ee-{your_username_on_Google_earth_engine}/assets/Garissa1County\")\n"
   ]
  },
  {
   "cell_type": "code",
   "execution_count": 3,
   "metadata": {},
   "outputs": [],
   "source": [
    "from geemap import ml "
   ]
  },
  {
   "cell_type": "code",
   "execution_count": 4,
   "metadata": {},
   "outputs": [
    {
     "data": {
      "text/html": [
       "<div>\n",
       "<style scoped>\n",
       "    .dataframe tbody tr th:only-of-type {\n",
       "        vertical-align: middle;\n",
       "    }\n",
       "\n",
       "    .dataframe tbody tr th {\n",
       "        vertical-align: top;\n",
       "    }\n",
       "\n",
       "    .dataframe thead th {\n",
       "        text-align: right;\n",
       "    }\n",
       "</style>\n",
       "<table border=\"1\" class=\"dataframe\">\n",
       "  <thead>\n",
       "    <tr style=\"text-align: right;\">\n",
       "      <th></th>\n",
       "      <th>B1</th>\n",
       "      <th>B10</th>\n",
       "      <th>B11</th>\n",
       "      <th>B2</th>\n",
       "      <th>B3</th>\n",
       "      <th>B4</th>\n",
       "      <th>B5</th>\n",
       "      <th>B6</th>\n",
       "      <th>B7</th>\n",
       "      <th>landcover</th>\n",
       "    </tr>\n",
       "  </thead>\n",
       "  <tbody>\n",
       "    <tr>\n",
       "      <th>0</th>\n",
       "      <td>0.122302</td>\n",
       "      <td>294.31340</td>\n",
       "      <td>289.91718</td>\n",
       "      <td>0.096028</td>\n",
       "      <td>0.073693</td>\n",
       "      <td>0.050018</td>\n",
       "      <td>0.326577</td>\n",
       "      <td>0.158818</td>\n",
       "      <td>0.064839</td>\n",
       "      <td>0</td>\n",
       "    </tr>\n",
       "    <tr>\n",
       "      <th>1</th>\n",
       "      <td>0.127584</td>\n",
       "      <td>294.92730</td>\n",
       "      <td>290.86554</td>\n",
       "      <td>0.100121</td>\n",
       "      <td>0.085449</td>\n",
       "      <td>0.055149</td>\n",
       "      <td>0.380837</td>\n",
       "      <td>0.175744</td>\n",
       "      <td>0.068880</td>\n",
       "      <td>0</td>\n",
       "    </tr>\n",
       "    <tr>\n",
       "      <th>2</th>\n",
       "      <td>0.123550</td>\n",
       "      <td>294.46100</td>\n",
       "      <td>290.24756</td>\n",
       "      <td>0.095798</td>\n",
       "      <td>0.072986</td>\n",
       "      <td>0.047406</td>\n",
       "      <td>0.343034</td>\n",
       "      <td>0.144637</td>\n",
       "      <td>0.054489</td>\n",
       "      <td>0</td>\n",
       "    </tr>\n",
       "    <tr>\n",
       "      <th>3</th>\n",
       "      <td>0.120793</td>\n",
       "      <td>294.50427</td>\n",
       "      <td>290.22095</td>\n",
       "      <td>0.093911</td>\n",
       "      <td>0.072469</td>\n",
       "      <td>0.047838</td>\n",
       "      <td>0.332497</td>\n",
       "      <td>0.156121</td>\n",
       "      <td>0.061805</td>\n",
       "      <td>0</td>\n",
       "    </tr>\n",
       "    <tr>\n",
       "      <th>4</th>\n",
       "      <td>0.121784</td>\n",
       "      <td>294.69790</td>\n",
       "      <td>290.72357</td>\n",
       "      <td>0.095399</td>\n",
       "      <td>0.077658</td>\n",
       "      <td>0.058008</td>\n",
       "      <td>0.313814</td>\n",
       "      <td>0.165054</td>\n",
       "      <td>0.072416</td>\n",
       "      <td>0</td>\n",
       "    </tr>\n",
       "  </tbody>\n",
       "</table>\n",
       "</div>"
      ],
      "text/plain": [
       "         B1        B10        B11        B2        B3        B4        B5  \\\n",
       "0  0.122302  294.31340  289.91718  0.096028  0.073693  0.050018  0.326577   \n",
       "1  0.127584  294.92730  290.86554  0.100121  0.085449  0.055149  0.380837   \n",
       "2  0.123550  294.46100  290.24756  0.095798  0.072986  0.047406  0.343034   \n",
       "3  0.120793  294.50427  290.22095  0.093911  0.072469  0.047838  0.332497   \n",
       "4  0.121784  294.69790  290.72357  0.095399  0.077658  0.058008  0.313814   \n",
       "\n",
       "         B6        B7  landcover  \n",
       "0  0.158818  0.064839          0  \n",
       "1  0.175744  0.068880          0  \n",
       "2  0.144637  0.054489          0  \n",
       "3  0.156121  0.061805          0  \n",
       "4  0.165054  0.072416          0  "
      ]
     },
     "execution_count": 4,
     "metadata": {},
     "output_type": "execute_result"
    }
   ],
   "source": [
    "#Read CSV\n",
    "#the data is acquired from google earth engine dataset having 0 is maize , 1 is sorghum and 2 cowpeas\n",
    "url = \"data.csv\"\n",
    "df = pd.read_csv(url)\n",
    "df.head()"
   ]
  },
  {
   "cell_type": "code",
   "execution_count": 5,
   "metadata": {},
   "outputs": [
    {
     "data": {
      "text/plain": [
       "(900, 10)"
      ]
     },
     "execution_count": 5,
     "metadata": {},
     "output_type": "execute_result"
    }
   ],
   "source": [
    "df.shape"
   ]
  },
  {
   "cell_type": "code",
   "execution_count": 6,
   "metadata": {},
   "outputs": [
    {
     "data": {
      "text/plain": [
       "0      0\n",
       "1      0\n",
       "2      0\n",
       "3      0\n",
       "4      0\n",
       "      ..\n",
       "895    2\n",
       "896    2\n",
       "897    2\n",
       "898    2\n",
       "899    2\n",
       "Name: landcover, Length: 900, dtype: int64"
      ]
     },
     "execution_count": 6,
     "metadata": {},
     "output_type": "execute_result"
    }
   ],
   "source": [
    "df['landcover']#landcover 0 is maize , 1 is sorghum and 2 cowpeas"
   ]
  },
  {
   "cell_type": "code",
   "execution_count": 7,
   "metadata": {},
   "outputs": [
    {
     "data": {
      "text/plain": [
       "Index(['B1', 'B10', 'B11', 'B2', 'B3', 'B4', 'B5', 'B6', 'B7', 'landcover'], dtype='object')"
      ]
     },
     "execution_count": 7,
     "metadata": {},
     "output_type": "execute_result"
    }
   ],
   "source": [
    "df.columns"
   ]
  },
  {
   "cell_type": "code",
   "execution_count": 8,
   "metadata": {},
   "outputs": [],
   "source": [
    "# specify the names of the features (i.e. band names) and label\n",
    "# feature names used to extract out features and define what bands\n",
    "\n",
    "feature_names = ['B1','B10','B11', 'B2', 'B3','B4', 'B5', 'B6', 'B7']\n",
    "label = \"landcover\""
   ]
  },
  {
   "cell_type": "code",
   "execution_count": 9,
   "metadata": {},
   "outputs": [],
   "source": [
    "# get the features and labels into separate variables\n",
    "X = df[feature_names]\n",
    "y = df[label]"
   ]
  },
  {
   "cell_type": "code",
   "execution_count": 10,
   "metadata": {},
   "outputs": [],
   "source": [
    "# Split features and target into train and test sets\n",
    "X_train, X_test, y_train, y_test = train_test_split(X, y, random_state=0, stratify=y)"
   ]
  },
  {
   "cell_type": "code",
   "execution_count": 11,
   "metadata": {},
   "outputs": [
    {
     "data": {
      "text/plain": [
       "RandomForestClassifier()"
      ]
     },
     "execution_count": 11,
     "metadata": {},
     "output_type": "execute_result"
    }
   ],
   "source": [
    "# Instantiate and fit the RandomForestClassifier\n",
    "forest = RandomForestClassifier()\n",
    "\n",
    "forest.fit(X_train, y_train)"
   ]
  },
  {
   "cell_type": "code",
   "execution_count": 12,
   "metadata": {},
   "outputs": [],
   "source": [
    "# Make predictions for the test set\n",
    "y_pred_test = forest.predict(X_test)"
   ]
  },
  {
   "cell_type": "code",
   "execution_count": null,
   "metadata": {},
   "outputs": [],
   "source": []
  },
  {
   "cell_type": "code",
   "execution_count": 13,
   "metadata": {},
   "outputs": [
    {
     "data": {
      "text/plain": [
       "array([[75,  0,  0],\n",
       "       [ 0, 75,  0],\n",
       "       [ 0,  0, 75]])"
      ]
     },
     "execution_count": 13,
     "metadata": {},
     "output_type": "execute_result"
    }
   ],
   "source": [
    "# View confusion matrix for test data and predictions\n",
    "confusion_matrix(y_test, y_pred_test)"
   ]
  },
  {
   "cell_type": "code",
   "execution_count": 14,
   "metadata": {},
   "outputs": [
    {
     "data": {
      "application/vnd.jupyter.widget-view+json": {
       "model_id": "6cb09eeff1b04d75b596bced32941659",
       "version_major": 2,
       "version_minor": 0
      },
      "text/plain": [
       "Map(center=[40, -100], controls=(WidgetControl(options=['position', 'transparent_bg'], widget=HBox(children=(T…"
      ]
     },
     "metadata": {},
     "output_type": "display_data"
    }
   ],
   "source": [
    "Map=geemap.Map()\n",
    "Map"
   ]
  },
  {
   "cell_type": "markdown",
   "metadata": {},
   "source": [
    "### We now need to convert the estimator into a string representation so that Earth Engine can interpret."
   ]
  },
  {
   "cell_type": "code",
   "execution_count": 15,
   "metadata": {},
   "outputs": [],
   "source": [
    "\n",
    "## convert the estimator into a list of strings\n",
    "trees =  ml.rf_to_strings(forest,feature_names)"
   ]
  },
  {
   "cell_type": "code",
   "execution_count": 16,
   "metadata": {},
   "outputs": [],
   "source": [
    "# create a ee classifier to use with ee objects from the trees\n",
    "ee_classifier = ml.strings_to_classifier(trees)"
   ]
  },
  {
   "cell_type": "code",
   "execution_count": null,
   "metadata": {},
   "outputs": [],
   "source": []
  },
  {
   "cell_type": "code",
   "execution_count": 17,
   "metadata": {},
   "outputs": [],
   "source": [
    "# Make a cloud-free Landsat 8 composite (from raw imagery).\n",
    "l8 = ee.ImageCollection('LANDSAT/LC08/C01/T1')\\\n",
    ".filterBounds(AOI)\\\n",
    ".map(lambda image: image.clip(AOI));\n",
    "\n",
    "image = ee.Algorithms.Landsat.simpleComposite(\n",
    "  collection= l8.filterDate('2018-01-01', '2021-01-31'),\n",
    "  asFloat= True\n",
    ")"
   ]
  },
  {
   "cell_type": "code",
   "execution_count": 18,
   "metadata": {},
   "outputs": [],
   "source": [
    "#this section we are selecting the bands we want to perform classification\n",
    "# and then claasify using Random forest classifier\n",
    "classified = image.select(feature_names).classify(ee_classifier)\n",
    "# print(classified)"
   ]
  },
  {
   "cell_type": "code",
   "execution_count": null,
   "metadata": {},
   "outputs": [],
   "source": []
  },
  {
   "cell_type": "code",
   "execution_count": 19,
   "metadata": {},
   "outputs": [
    {
     "data": {
      "application/vnd.jupyter.widget-view+json": {
       "model_id": "7fcee8a4cf544fb88472ae3bfac7fdf0",
       "version_major": 2,
       "version_minor": 0
      },
      "text/plain": [
       "Map(center=[0.3597340638009545, 37.577717495842506], controls=(WidgetControl(options=['position', 'transparent…"
      ]
     },
     "metadata": {},
     "output_type": "display_data"
    }
   ],
   "source": [
    "# display results\n",
    "Map = geemap.Map()\n",
    "Map.setCenter(37.577717495842506,0.3597340638009545,7)\n",
    "# Map.addLayer(image,{\"min\":0.05, \"max\": 0.55}, 'image')\n",
    "legend_keys = ['Maize', 'Sorghum', 'Cowpeas']\n",
    "# colorS can be defined using either hex code or RGB (0-255, 0-255, 0-255)\n",
    "# legend_colors = ['red', 'green', 'blue']\n",
    "legend_colors = [ (127, 255, 0),(255, 0, 0), (0, 0, 255)]\n",
    "\n",
    "Map.add_legend(\n",
    "    \n",
    "    legend_keys=legend_keys, legend_colors=legend_colors, position='bottomright'\n",
    ")\n",
    "\n",
    "Map.addLayer(AOI, {}, 'Garissa')\n",
    "Map.addLayer(classified, {\"min\": 0, \"max\": 2, \"palette\": ['red', 'green', 'blue']},'classification')\n",
    "\n",
    "Map"
   ]
  },
  {
   "cell_type": "code",
   "execution_count": null,
   "metadata": {},
   "outputs": [],
   "source": []
  },
  {
   "cell_type": "code",
   "execution_count": null,
   "metadata": {},
   "outputs": [],
   "source": []
  }
 ],
 "metadata": {
  "kernelspec": {
   "display_name": "Python 3",
   "language": "python",
   "name": "python3"
  },
  "language_info": {
   "codemirror_mode": {
    "name": "ipython",
    "version": 3
   },
   "file_extension": ".py",
   "mimetype": "text/x-python",
   "name": "python",
   "nbconvert_exporter": "python",
   "pygments_lexer": "ipython3",
   "version": "3.8.5"
  }
 },
 "nbformat": 4,
 "nbformat_minor": 4
}
